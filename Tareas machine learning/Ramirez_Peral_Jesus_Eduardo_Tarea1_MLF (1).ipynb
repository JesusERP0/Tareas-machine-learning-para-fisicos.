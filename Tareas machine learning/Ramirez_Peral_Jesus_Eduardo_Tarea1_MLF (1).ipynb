{
 "cells": [
  {
   "cell_type": "markdown",
   "metadata": {},
   "source": [
    "<font color= 'blue' size=6>\n",
    " <center>\n",
    "Tarea 1 - Programación"
   ]
  },
  {
   "cell_type": "markdown",
   "metadata": {},
   "source": [
    "## 1. Escribe una función que reciba una lista de números y determine si todos sus elementos son diferentes entre si."
   ]
  },
  {
   "cell_type": "code",
   "execution_count": 34,
   "metadata": {},
   "outputs": [],
   "source": [
    "def ElemDif(lista):\n",
    "      # Como queremos ver si todos los elementos son distintos, Para ello crearemos una lista para despues converrtirla en un conjunto, donde sabemos que estos solamente\n",
    "    # pueden haber un número, después compararemos la longitud de la lista y del conjunto\n",
    "    # si son iguales(==) entonces los elementos de la lista son únicos pero si cambian(!=) seran repedidos. \n",
    "    # Para esto haremos un if y elif para ambos casos.\n",
    "    conjunto = set(lista)\n",
    "    if len(conjunto) == len(lista): print(\"Elementos diferentes\")\n",
    "    elif len(conjunto) !=len(lista): print(\"Hay elementos iguales en la lista\")"
   ]
  },
  {
   "cell_type": "code",
   "execution_count": 35,
   "metadata": {},
   "outputs": [
    {
     "name": "stdout",
     "output_type": "stream",
     "text": [
      "Hay elementos iguales en la lista\n",
      "Elementos diferentes\n",
      "Hay elementos iguales en la lista\n",
      "Elementos diferentes\n"
     ]
    }
   ],
   "source": [
    "# Probamos la función con tres listas distintas:\n",
    "\n",
    "ElemDif([3,2,9,2,5,3,9,2,5,1,4,2])\n",
    "ElemDif([1,2,3,4,5,6,7,8,9,0])\n",
    "ElemDif([5,6,5,3,3,2,2,1])\n",
    "ElemDif([1,3,5,7,9])"
   ]
  },
  {
   "cell_type": "markdown",
   "metadata": {},
   "source": [
    "## 2. Listas y diccionarios por comprensión.\n",
    "\n",
    "### Escribe una función que reciba una cadena y regrese una lista que contenga sólo los caracteres numéricos incluidos en la cadena. Para este ejercicio debes usar listas por comprensión."
   ]
  },
  {
   "cell_type": "code",
   "execution_count": 36,
   "metadata": {},
   "outputs": [],
   "source": [
    "def LisCad(cadena):\n",
    "    lista = [x.strip() for x in cadena.strip() if x in ['1','2','3','4','5','6','7','8','9','0']]\n",
    "    # Primero hacemos una lista con las palabras de la cadena, usamos \"strip\" para eliminar los espacios\n",
    "    # Despues queremos que cada una de las letras de la cadena sea un elemento de la lista que va del 0 al 9\n",
    "    # Finalmeten aplicamos un return para regresar aquellos valores que están dentro de la lista con todos los números\n",
    "    return lista"
   ]
  },
  {
   "cell_type": "code",
   "execution_count": 38,
   "metadata": {},
   "outputs": [
    {
     "data": {
      "text/plain": [
       "['1', '3', '4', '0']"
      ]
     },
     "execution_count": 38,
     "metadata": {},
     "output_type": "execute_result"
    }
   ],
   "source": [
    "LisCad(\"Si tuviera 134 pesos por cada vez que mi crush me pela tuviera 0 jaja xD\")"
   ]
  },
  {
   "cell_type": "markdown",
   "metadata": {},
   "source": [
    "### Escribe una función que reciba una cadena que almacena una oración y regrese un diccionario por comprensión que contenga cada palabra de la oración como llave y la longitud de dicha palabra como valor."
   ]
  },
  {
   "cell_type": "code",
   "execution_count": 39,
   "metadata": {},
   "outputs": [
    {
     "data": {
      "text/plain": [
       "{'Chavos': 6,\n",
       " 'ahorita': 7,\n",
       " 'todos': 5,\n",
       " 'tienen': 6,\n",
       " '10': 2,\n",
       " 'en': 2,\n",
       " 'el': 2,\n",
       " 'curso': 5,\n",
       " 'su': 2,\n",
       " 'responsabilidad': 15,\n",
       " 'es': 2,\n",
       " 'mantenerlo': 10}"
      ]
     },
     "execution_count": 39,
     "metadata": {},
     "output_type": "execute_result"
    }
   ],
   "source": [
    "def LongPalabras(cadena):\n",
    "    #Para esta funcion aplicaremos la funcion integrada en python es una función integrada en python.\n",
    "    #Puede usar len() para obtener la longitud de la cadena, matriz, lista, tupla, diccionario, etc.\n",
    "    contador = {palabra: len(palabra) for palabra in cadena.split()}#Split divide una cadena en una lista donde cada palabra es un elemento de la lista\n",
    "    #esto para poder separar la oracion y contar cada palabra\n",
    "    return contador\n",
    "\n",
    "LongPalabras(\"Chavos ahorita todos tienen 10 en el curso su responsabilidad es mantenerlo\")#jajaj no me funen,\n",
    "#es que uno anda aburrido y con este tipo de ocurrencias la tarea se hace divertida xD"
   ]
  },
  {
   "cell_type": "markdown",
   "metadata": {},
   "source": [
    "## 3. Escribe una función que reciba el archivo de texto temperaturas.txt, el cual contiene un conjunto de datos que representan temperaturas. La función deberá regresar un diccionario con los siguientes datos:\n",
    "\n",
    "- La temperatura máxima.\n",
    "- La temperatura mínima.\n",
    "- La temperatura promedio.\n",
    "- La mediana de las temperaturas.\n",
    "\n",
    "El diccionario resultado debe tener la siguiente forma: { ’maximo’: 35, ’minimo’:\n",
    "15, ’promedio’: 25, ’mediana’: 28 }.\n",
    "\n",
    "Nota: Los valores mostrados son sólo ilustrativos, no necesariamente son los valores\n",
    "correctos."
   ]
  },
  {
   "cell_type": "code",
   "execution_count": 59,
   "metadata": {},
   "outputs": [],
   "source": [
    "def Temperaturas(name_arc):\n",
    "    with open(name_arc) as f:\n",
    "        lines = [float(x.rstrip()) for x in f]\n",
    "        # Primero leemos el archivo y cerraramos al momento de terminar el espaciado\n",
    "    lines.sort() #Ordenamos la lista para poder obtener la mediana\n",
    "    #Despues solo obtenemos la temperatura maxima, minima, promedio y la mediana.\n",
    "    Temp_Max= max(lines)\n",
    "    Temp_Min=min(lines) \n",
    "    Temp_Prom= sum(lines)/len(lines) \n",
    "    Temp_Med= lines[int(len(lines)/2)]\n",
    "    return {'maximo':Temp_Max, 'minimo':Temp_Min,'promedio':Temp_Prom,'mediana':Temp_Med} # Y finalmente, regresamos el diccionario con los datos. "
   ]
  },
  {
   "cell_type": "code",
   "execution_count": 61,
   "metadata": {},
   "outputs": [
    {
     "data": {
      "text/plain": [
       "{'maximo': 28.2,\n",
       " 'minimo': 0.8,\n",
       " 'promedio': 14.848309178743966,\n",
       " 'mediana': 14.7}"
      ]
     },
     "execution_count": 61,
     "metadata": {},
     "output_type": "execute_result"
    }
   ],
   "source": [
    "Temperaturas(\"temperaturas.txt\")"
   ]
  },
  {
   "cell_type": "markdown",
   "metadata": {},
   "source": [
    "## 4. Implementa la fórmula de la desviación estándar en una función de Python:\n",
    "\n",
    "$$DE=\\sqrt{\\frac{\\sum_{}^{} |x-\\mu|^2}{N}}$$\n",
    "\n",
    "Donde:\n",
    "\n",
    "- x es un elemento del conjunto.\n",
    "- $\\mu$ es la media del conjunto de datos.\n",
    "- $N$ es el número total de datos.\n",
    "- La función recibe una lista de datos numéricos y regresa la desviación estándar de los datos."
   ]
  },
  {
   "cell_type": "code",
   "execution_count": 47,
   "metadata": {},
   "outputs": [],
   "source": [
    "def DesvEst(l1):\n",
    "    l1.sort() #Podemos o no ocupar \"sort\" Para ordenar los valores.\n",
    "    Med_u = sum(l1)/len(l1) #Definimos la media como el promedio de los eventos\n",
    "    N = len(l1) # Con N la cantidad de los eventos que hay\n",
    "    i = 0  #El iterador \n",
    "    for x in l1:\n",
    "        i += (x-Med_u)**2 # Hacemos la suma\n",
    "    return (i/N)**(1/2) #  Y nos regresa la desviación estandar"
   ]
  },
  {
   "cell_type": "code",
   "execution_count": 198,
   "metadata": {},
   "outputs": [
    {
     "name": "stdout",
     "output_type": "stream",
     "text": [
      "La Desviación estandar es = 9.797958971132712\n"
     ]
    }
   ],
   "source": [
    "datos=[3,15,27]\n",
    "print(\"La Desviación estandar es =\", DesvEst(datos))"
   ]
  },
  {
   "cell_type": "markdown",
   "metadata": {},
   "source": [
    "# 5. El teorema del mono infinito afirma que si un mono presiona al azar teclas de un teclado de alguna computadora durante un tiempo infinito, en algún momento podrá escribir cualquier texto dado. El texto que trataremos de generar a partir de la simulación es el siguiente: \"methinks it is like a weasel\". La simulación se divide en tres pequeñas funciones:\n",
    "\n",
    "- Escribe una función que genere cadenas pseudoaleatorias de longitud igual a la longitud de la cadena dada.\n",
    "- Escribe una función que cuente las coincidencias de caracteres entre la cadena generada y la cadena dada. \n",
    "- Escribe una función que de forma iterativa obtenga una cadena pseudoaleatoria, calcule las coincidencias de caracteres y termine si la dicha coincidencia es completa, es decir si se generó la cadena esperada. Al final del ciclo iterativo debe imprimir el mayor número de coincidencias y la cadena que lo generó."
   ]
  },
  {
   "cell_type": "code",
   "execution_count": 57,
   "metadata": {},
   "outputs": [],
   "source": [
    "import random\n",
    "#primera parte:\n",
    "oracion =  \"methinks it is like a weasel\"\n",
    "def Cad_Al(oracion):\n",
    "    long = len(oracion)#longitud de la oracion\n",
    "    letras = list(\"abcdefghijklmnopqrstuvwxyz \")# Definimos las letras del abecedario y dos espacios.\n",
    "    palabra = [letras[random.randint(0,len(letras) -1)] for veces in range(long)]# tomamos valores pseudoaleatorios y escoger la posición de\n",
    "    # la letra aleatorio las veces de la longitud de la oración para despues crear una cadena\n",
    "    cadena_nu = \"\"\n",
    "    # Por ultimo unimos con \"join\" cada una de las letras generadas aleatoriamente para generar una palabra\n",
    "    return (cadena_nu.join(palabra))\n",
    "\n",
    "\n",
    "# 2da parte\n",
    "def Coin(oracion, oracion_aleatoria):\n",
    "    \n",
    "    oracion = oracion.split()#Pasamos en lista cada una de las cadenas\n",
    "    oracion_aleatoria = oracion_aleatoria.split()\n",
    "    # Despues haremos conjuntos las palabras aleatorias que se lleguen a repetir\n",
    "    oracion = set(oracion)\n",
    "    oracion_aleatoria = set(oracion_aleatoria)\n",
    "    proba = 0\n",
    "    # Comparamos estas dos listas, y ver los carácteres similares que tienen entre si.\n",
    "    for palabra_original in oracion:\n",
    "        for palabra_random in oracion_aleatoria:\n",
    "            #Si son iguales tenemos:\n",
    "            if palabra_original == palabra_random:\n",
    "                # Queremos que nuestra probabilidad sea de %100\n",
    "                # Para eso, tenemos que la probabilidad es # P(A) = #A/#Ω por tanto P(Ω) = 1\n",
    "                A = oracion.intersection(oracion_aleatoria)\n",
    "                # Y Ω es nuestro conjunto con las palabras de la oración original\n",
    "                proba = len(A)/len(oracion)\n",
    "                \n",
    "    return proba\n",
    "\n",
    "\n",
    "\n",
    "# Ultima funcion\n",
    "def Mono(oracion, veces):\n",
    "    # Contador de iteraciones\n",
    "    oracion_random = Cad_Al(oracion)\n",
    "  \n",
    "    proba = 0  # Probabilidad\n",
    "    \n",
    "    # Consideramos iterador para considerar las veces que hará el ciclo\n",
    "    i = 0\n",
    "    \n",
    "    # Al igual que una lista vacía para meter las veces que \n",
    "    # tenemos éxito\n",
    "    exitos = []\n",
    "    \n",
    "    # Metemos a un ciclo \n",
    "    while i  < veces:\n",
    "        \n",
    "        # Definimos nuestra oracion aleatoria\n",
    "        oracion_random = Cad_Al(oracion)\n",
    "        \n",
    "        # Comparamos las oraciones\n",
    "        proba = Coin(oracion, oracion_random)\n",
    "        veces -= 1\n",
    "        \n",
    "        if proba != 0:\n",
    "            \n",
    "            print(oracion_random, veces, proba)"
   ]
  },
  {
   "cell_type": "code",
   "execution_count": 58,
   "metadata": {},
   "outputs": [
    {
     "name": "stdout",
     "output_type": "stream",
     "text": [
      "hep tlseceknptrnotfocaoank a 9544 0.16666666666666666\n",
      "a icngygv yvuyzssmo kigjg bj 9080 0.16666666666666666\n",
      "bkggfahmxqqy ixxowaxxzxjz is 9036 0.16666666666666666\n",
      "a fiwzwpmwxyeuqqsxratfpnsqvb 8994 0.16666666666666666\n",
      "vchrexgkkpqpgdddzqxusry a lu 8874 0.16666666666666666\n",
      " hx swzsujddgaskaveeig znu a 8811 0.16666666666666666\n",
      "tzeqhrczfahnpruhoxbvmhsxdn a 7898 0.16666666666666666\n",
      "kveebyjojt a pibljqgynmhsjbt 7889 0.16666666666666666\n",
      "a pemcpjnqnkok xzdjfrvyrkqpn 7382 0.16666666666666666\n",
      "wowkvwrafnriulvzgxjddpnhmh a 7255 0.16666666666666666\n",
      "aswzigcradutdunbrptbjp kef a 7254 0.16666666666666666\n",
      "wbtebqqeffeiidmkjnsnawwnnv a 7152 0.16666666666666666\n",
      "kucozhtnkpxrskzxyoadvgucos a 6980 0.16666666666666666\n",
      "gaqubmvvrzzshhuexdob a ib ni 6940 0.16666666666666666\n",
      "jhprzhhqpbtrbejfvbvybacetc a 6783 0.16666666666666666\n",
      "gkwiwtilegu a sxkgxhgrntlxnc 6502 0.16666666666666666\n",
      " prytziujwfpwcjvpryurvqiwo a 6462 0.16666666666666666\n",
      "zpxwcfrzgqcmzbulxespxucaqu a 5544 0.16666666666666666\n",
      "a xpur ebxwbvognaopgrj  zg a 5529 0.16666666666666666\n",
      "a myq eoihsbrqqkiqvoqugtboev 5020 0.16666666666666666\n",
      "upgnggoxjfnmvjjvrhv stkmkp a 4951 0.16666666666666666\n",
      "iztjjccdbjduefscgyldamjwxp a 4852 0.16666666666666666\n",
      "jwikmgcb spgdssswgzfpzdtch a 4779 0.16666666666666666\n",
      "xpvsgrvs a jeejhlfmssqybwtms 3697 0.16666666666666666\n",
      "s ewgajuk lpjn a bbaxsbvr cx 3530 0.16666666666666666\n",
      "qtncamculkobijesdqxkkqdmto a 3303 0.16666666666666666\n",
      "dkfwabwjw jyuhbfhithxfcjrw a 3260 0.16666666666666666\n",
      "blkjsvyybexzwihwsoptbr a udj 3078 0.16666666666666666\n",
      "mnnctrvprfvihshgplakvzoaoc a 2966 0.16666666666666666\n",
      "a zshrwrmgyjwucorymevjaehmlk 2848 0.16666666666666666\n",
      "zszoeyffffbhwsydrwqisoojdf a 2595 0.16666666666666666\n",
      "a qcwwjgzjrmzzimmnuhfqnojxjt 2563 0.16666666666666666\n",
      "a xyaookazsxjmraxwfdxinzftkk 2417 0.16666666666666666\n",
      "gxgmyzrhnmjmegvgtrxophjtdb a 1697 0.16666666666666666\n",
      "alntgpgwgngqlybbjcsdlcbrb a  1526 0.16666666666666666\n",
      "sdtooynpbviwrirefowxnpy a gu 800 0.16666666666666666\n",
      "a svyznqkkwbrmbxzlocglvroqjv 594 0.16666666666666666\n"
     ]
    }
   ],
   "source": [
    "Mono(oracion, 10000)"
   ]
  },
  {
   "cell_type": "markdown",
   "metadata": {},
   "source": [
    "## 6. Un número estrobogramático, es un número que es rotacionalmente simétrico, de modo que se ve igual cuando se gira 180 grados. Por ejemplo: 69, 96, 1001, etc. Los números 69 y 96 tienen dos dígitos, por lo que diremos que son números estrobogramáticos de longitud dos y el 1001 es de longitud cuatro. Escribe una función que calcule los números estrobogramáticos de longitud n. La función debe recibir como argumento la variable n y debe de regresar una lista con todos los números estrobogramáticos de longitud n.\n",
    "Hint: Usa recursión con la longitud de los números."
   ]
  },
  {
   "cell_type": "code",
   "execution_count": 29,
   "metadata": {},
   "outputs": [],
   "source": [
    "def es_gramatico(x):\n",
    "    caracteres=[\"0\", \"1\",\"6\", \"8\", \"9\"]\n",
    "    cadena=str(x)\n",
    "    if cadena in caracteres:\n",
    "        return True\n",
    "    else:\n",
    "        for c in cadena:\n",
    "            if c not in caracteres:\n",
    "                return False\n",
    "                break\n",
    "            else:\n",
    "                pass\n",
    "        cad_inv = list(cadena[::-1])\n",
    "        for i in range(len(cad_inv)):\n",
    "            if cad_inv[i] == \"9\":\n",
    "                cad_inv[i] = \"6\"\n",
    "            elif cad_inv[i] == \"6\":\n",
    "                cad_inv[i] = \"9\"     \n",
    "            else:\n",
    "                pass\n",
    "        if cadena == \"\".join(cad_inv):\n",
    "            return True"
   ]
  },
  {
   "cell_type": "code",
   "execution_count": null,
   "metadata": {},
   "outputs": [],
   "source": [
    "print(estrobogramatico(6))"
   ]
  },
  {
   "cell_type": "code",
   "execution_count": 30,
   "metadata": {},
   "outputs": [],
   "source": [
    "def ran_es_gramatico(n=2):\n",
    "    num_lis=[]\n",
    "    for x in range(int(\"1\"+\"0\"*(n-1)), int(\"1\"+\"0\"*(n))):\n",
    "        if es_gramatico(x):\n",
    "            num_lis.append(x)\n",
    "        else:\n",
    "            pass\n",
    "    return (len(num_lis), num_lis)"
   ]
  },
  {
   "cell_type": "code",
   "execution_count": 31,
   "metadata": {},
   "outputs": [
    {
     "data": {
      "text/plain": [
       "(4, [11, 69, 88, 96])"
      ]
     },
     "execution_count": 31,
     "metadata": {},
     "output_type": "execute_result"
    }
   ],
   "source": [
    "ran_es_gramatico(2)"
   ]
  },
  {
   "cell_type": "code",
   "execution_count": 32,
   "metadata": {},
   "outputs": [
    {
     "data": {
      "text/plain": [
       "(12, [101, 111, 181, 609, 619, 689, 808, 818, 888, 906, 916, 986])"
      ]
     },
     "execution_count": 32,
     "metadata": {},
     "output_type": "execute_result"
    }
   ],
   "source": [
    "ran_es_gramatico(3)"
   ]
  },
  {
   "cell_type": "code",
   "execution_count": 33,
   "metadata": {},
   "outputs": [
    {
     "data": {
      "text/plain": [
       "(20,\n",
       " [1001,\n",
       "  1111,\n",
       "  1691,\n",
       "  1881,\n",
       "  1961,\n",
       "  6009,\n",
       "  6119,\n",
       "  6699,\n",
       "  6889,\n",
       "  6969,\n",
       "  8008,\n",
       "  8118,\n",
       "  8698,\n",
       "  8888,\n",
       "  8968,\n",
       "  9006,\n",
       "  9116,\n",
       "  9696,\n",
       "  9886,\n",
       "  9966])"
      ]
     },
     "execution_count": 33,
     "metadata": {},
     "output_type": "execute_result"
    }
   ],
   "source": [
    "ran_es_gramatico(4)"
   ]
  },
  {
   "cell_type": "code",
   "execution_count": 23,
   "metadata": {},
   "outputs": [
    {
     "data": {
      "text/plain": [
       "(60,\n",
       " [10001,\n",
       "  10101,\n",
       "  10801,\n",
       "  11011,\n",
       "  11111,\n",
       "  11811,\n",
       "  16091,\n",
       "  16191,\n",
       "  16891,\n",
       "  18081,\n",
       "  18181,\n",
       "  18881,\n",
       "  19061,\n",
       "  19161,\n",
       "  19861,\n",
       "  60009,\n",
       "  60109,\n",
       "  60809,\n",
       "  61019,\n",
       "  61119,\n",
       "  61819,\n",
       "  66099,\n",
       "  66199,\n",
       "  66899,\n",
       "  68089,\n",
       "  68189,\n",
       "  68889,\n",
       "  69069,\n",
       "  69169,\n",
       "  69869,\n",
       "  80008,\n",
       "  80108,\n",
       "  80808,\n",
       "  81018,\n",
       "  81118,\n",
       "  81818,\n",
       "  86098,\n",
       "  86198,\n",
       "  86898,\n",
       "  88088,\n",
       "  88188,\n",
       "  88888,\n",
       "  89068,\n",
       "  89168,\n",
       "  89868,\n",
       "  90006,\n",
       "  90106,\n",
       "  90806,\n",
       "  91016,\n",
       "  91116,\n",
       "  91816,\n",
       "  96096,\n",
       "  96196,\n",
       "  96896,\n",
       "  98086,\n",
       "  98186,\n",
       "  98886,\n",
       "  99066,\n",
       "  99166,\n",
       "  99866])"
      ]
     },
     "execution_count": 23,
     "metadata": {},
     "output_type": "execute_result"
    }
   ],
   "source": [
    "ran_es_gramatico(5)"
   ]
  },
  {
   "cell_type": "markdown",
   "metadata": {},
   "source": [
    "## 7. Simular el lanzamiento de un dado para calcular la probabilidad frecuencial. \n",
    "\n",
    "- Escribe una función que simule el experimento de lanzar un dado, los posibles valores a obtener son: 1,2,3,4,5 o 6."
   ]
  },
  {
   "cell_type": "code",
   "execution_count": 116,
   "metadata": {},
   "outputs": [
    {
     "name": "stdout",
     "output_type": "stream",
     "text": [
      "1\n",
      "5\n",
      "4\n",
      "1\n",
      "6\n",
      "5\n"
     ]
    }
   ],
   "source": [
    "def Dado():\n",
    "    #Definimos crs= caras de los dados en forma de lista del 1 al 6\n",
    "    crs = list('123456')\n",
    "    return crs[random.randint(0,5)]\n",
    "#finalmente pruebo con 6 tiros.\n",
    "print(Dado())\n",
    "print(Dado())\n",
    "print(Dado())\n",
    "print(Dado())\n",
    "print(Dado())\n",
    "print(Dado())"
   ]
  },
  {
   "cell_type": "markdown",
   "metadata": {},
   "source": [
    "- Escribe una función que realice n simulaciones del lanzamiento de un dado y compruebe experimentalmente que el número de veces que aparece una de las caras entre el total de lanzamientos (n) se aproxima a 1/6 conforme n crece. La función debe generar un archivo de texto donde cada renglón contenga los datos de cada lanzamiento. Los datos a escribir son: número de simulación, resultado obtenido y los cocientes $n_c/i$, donde $n_c$ es la cantidad de veces cayó la cara $c \\in \\{1, 2, 3, 4, 5, 6\\}$ e $i$ es la cantidad de lanzamientos realizados hasta el momento. "
   ]
  },
  {
   "cell_type": "code",
   "execution_count": 52,
   "metadata": {},
   "outputs": [],
   "source": [
    "def Sim_Dado(n = 1000):\n",
    "    #Simulando el lanzamiento de dados n veces.\n",
    "    \n",
    "    # Para empezar, usamos el codigo que nos enseño la ayudante,\n",
    "    # el cual Si no existe el archivo lo crea, al igual que si existe lo sobreescribe, esto para que no se junten datos.\n",
    "    file = open( \"Dados.txt\" , \"w\" )\n",
    "    \n",
    "    #Escribimos el encabezado el cual nos mostrara el numero de simulacion, el resultado obtenido y la probabilidad\n",
    "    #que tendria que ser cercano a 1/6\n",
    "    file.write( \"#Simulación, Resultado, Probabilidad\\n\" )\n",
    "    \n",
    "    #Creamos un diccionario vacío con las caras de los dados\n",
    "    Diccionario = {a: 0 for a in range(1,7)}\n",
    "    \n",
    "    for lanzamientos in range(1, n + 1):\n",
    "        Dado = random.randint(1,6)#La variable dada aqui creará números aleatorios con el comando random.randint del 1 al 6\n",
    "        # Entonces buscaremso la llave del diccionario con ese número y le sumamos 1 a este\n",
    "        Diccionario[Dado] += 1\n",
    "        \n",
    "        # Le damos formato al archivo, así como escribimos los nuevos datos\n",
    "        file.write(\"{}, {}, {:0.3f}\\n\".format(lanzamientos, Dado, Diccionario[Dado]/lanzamientos))\n",
    "\n",
    "    file.close()# Cerramos el archivo\n",
    "    print(\"Descarga el archivo Dados.txt para ver la informacion\")"
   ]
  },
  {
   "cell_type": "code",
   "execution_count": 53,
   "metadata": {},
   "outputs": [
    {
     "name": "stdout",
     "output_type": "stream",
     "text": [
      "Descarga el archivo Dados.txt para ver la informacion\n"
     ]
    }
   ],
   "source": [
    "Sim_Dado(1000)\n",
    "#Puede apreciarse que en muchos casos el valor rondara alrededor de 1/6"
   ]
  },
  {
   "cell_type": "markdown",
   "metadata": {},
   "source": [
    "# Problema 8\n",
    "\n",
    "Dada la lista ordenada [2, 5, 6, 8, 9, 10], una rotación es tomar el último elemento y desplazarlo al inicio de la lista quedando [10, 2, 5, 6, 8, 9]. Por ejemplo: la lista [8, 9, 10, 2, 5, 6] fue rotada 3 veces. Dada una lista rotada k veces, escribe una función que calcule el valor de $k$, es decir la cantidad de rotaciones o desplazamientos realizados a la lista. Puedes suponer que la lista no tiene elementos repetidos. "
   ]
  },
  {
   "cell_type": "code",
   "execution_count": 161,
   "metadata": {},
   "outputs": [],
   "source": [
    "def Rotacion(lis):\n",
    "    Maximo = max(lis)# Como la lista dada por la variable \"lis\" no tiene elementos repetidos basta con obtener el maximo de esa lista ordenada\n",
    "    #Para despues ver las k veces que rota\n",
    "    # Así como definimos a nuestra k\n",
    "    ks= lis.index(Maximo) + 1\n",
    "    \n",
    "    if ks == len(lis):\n",
    "        return 0\n",
    "    \n",
    "    return ks"
   ]
  },
  {
   "cell_type": "code",
   "execution_count": 162,
   "metadata": {},
   "outputs": [
    {
     "name": "stdout",
     "output_type": "stream",
     "text": [
      "0\n",
      "3\n",
      "1\n"
     ]
    }
   ],
   "source": [
    "print(Rotacion([2, 5, 6, 8, 9, 10]))\n",
    "print(Rotacion([8, 9, 10, 2, 5, 6]))\n",
    "print(Rotacion([10, 2, 5, 6, 8, 9]))"
   ]
  },
  {
   "cell_type": "markdown",
   "metadata": {},
   "source": [
    "# Problema 9\n",
    "\n",
    "Una forma de aproximar $\\pi$ dada la sección ubicada en el primer cuadrante del circulo unitario.\n",
    "\n",
    "Escribe una función que genere los valores pseudoaleatorios (x,y) con distribución uniforme dentro del intervalo (0, 1), independiente un valor del otro. Si se tiene que $y \\leq \\sqrt{1 − x^2}$, entonces el punto (x,y) está dentro del cuarto de círculo. En caso contrario se considera un fracaso. Así, al repetir varias veces este procedimiento, el cociente del número de éxitos $n_E$ entre el número de ensayos $n$ será una aproximación del área de la región. Siendo una cuarta parte del círculo unitario, su área es $\\pi/4$. La función recibe como argumento el valor de $n$ y debe regresar el valor de la aproximación de $\\pi$. Para este ejercicio puedes utilizar la función uniform del modulo random de Python."
   ]
  },
  {
   "cell_type": "code",
   "execution_count": 15,
   "metadata": {},
   "outputs": [],
   "source": [
    "import random\n",
    "def Aprox_Pi(n):\n",
    "    n_E=0\n",
    "    for i in range(n):\n",
    "        x,y=random.uniform(0, 1), random.uniform(0, 1)\n",
    "        if y<=(1-x**2)**0.5:\n",
    "            n_E+=1\n",
    "        else:\n",
    "            pass\n",
    "    return 4*n_E/n"
   ]
  },
  {
   "cell_type": "code",
   "execution_count": 16,
   "metadata": {},
   "outputs": [
    {
     "data": {
      "text/plain": [
       "3.1408844"
      ]
     },
     "execution_count": 16,
     "metadata": {},
     "output_type": "execute_result"
    }
   ],
   "source": [
    "Aprox_Pi(10000000)"
   ]
  }
 ],
 "metadata": {
  "kernelspec": {
   "display_name": "Python 3 (ipykernel)",
   "language": "python",
   "name": "python3"
  },
  "language_info": {
   "codemirror_mode": {
    "name": "ipython",
    "version": 3
   },
   "file_extension": ".py",
   "mimetype": "text/x-python",
   "name": "python",
   "nbconvert_exporter": "python",
   "pygments_lexer": "ipython3",
   "version": "3.9.5"
  }
 },
 "nbformat": 4,
 "nbformat_minor": 4
}
